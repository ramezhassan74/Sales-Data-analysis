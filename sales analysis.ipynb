{
 "cells": [
  {
   "cell_type": "code",
   "execution_count": null,
   "id": "318e308d",
   "metadata": {},
   "outputs": [
    {
     "data": {
      "application/vnd.microsoft.datawrangler.viewer.v0+json": {
       "columns": [
        {
         "name": "index",
         "rawType": "int64",
         "type": "integer"
        },
        {
         "name": "date",
         "rawType": "object",
         "type": "string"
        },
        {
         "name": "product",
         "rawType": "object",
         "type": "string"
        },
        {
         "name": "category",
         "rawType": "object",
         "type": "string"
        },
        {
         "name": "price",
         "rawType": "float64",
         "type": "float"
        },
        {
         "name": "quantity",
         "rawType": "float64",
         "type": "float"
        },
        {
         "name": "revenue",
         "rawType": "float64",
         "type": "float"
        }
       ],
       "ref": "bd4ef652-b1a1-4035-ada4-5616d464eb9f",
       "rows": [
        [
         "0",
         "2022-01-01",
         "Smartphone",
         "Electronics",
         "600.0",
         "10.0",
         "6000.0"
        ],
        [
         "1",
         "2022-01-01",
         "Laptop",
         "Electronics",
         "1200.0",
         "5.0",
         "6000.0"
        ],
        [
         "2",
         "2022-01-02",
         "T-Shirt",
         "Clothing",
         "20.0",
         "50.0",
         "1000.0"
        ],
        [
         "3",
         "2022-01-03",
         "Headphones",
         "Electronics",
         "100.0",
         "20.0",
         "2000.0"
        ],
        [
         "4",
         "2022-01-04",
         "T-Shirt",
         "Clothing",
         "20.0",
         "25.0",
         "500.0"
        ],
        [
         "5",
         "2022-01-05",
         "Watch",
         "Accessories",
         "150.0",
         "10.0",
         "1500.0"
        ],
        [
         "6",
         "2022-01-06",
         "Smartphone",
         "Electronics",
         "600.0",
         "8.0",
         "4800.0"
        ],
        [
         "7",
         "2022-01-06",
         "Tablet",
         "Electronics",
         "400.0",
         "5.0",
         "2000.0"
        ],
        [
         "8",
         "2022-01-07",
         "Coat",
         "Clothing",
         "100.0",
         "10.0",
         "1000.0"
        ],
        [
         "9",
         "2022-01-08",
         "Smartwatch",
         "Accessories",
         "200.0",
         "12.0",
         "2400.0"
        ],
        [
         "10",
         "2022-01-09",
         "Speaker",
         "Electronics",
         "80.0",
         "15.0",
         "1200.0"
        ],
        [
         "11",
         "2022-01-10",
         "Backpack",
         "Bags",
         "50.0",
         "20.0",
         "1000.0"
        ],
        [
         "12",
         "2022-01-11",
         "Hoodie",
         "Clothing",
         "40.0",
         "30.0",
         "1200.0"
        ],
        [
         "13",
         "2022-01-12",
         "Smartphone",
         "Electronics",
         "600.0",
         "12.0",
         "7200.0"
        ],
        [
         "14",
         "2022-01-13",
         "Sneakers",
         "Shoes",
         "80.0",
         "10.0",
         "800.0"
        ],
        [
         "15",
         "2022-01-14",
         "Wallet",
         "Accessories",
         "30.0",
         "40.0",
         "1200.0"
        ],
        [
         "16",
         "2022-01-15",
         "Jeans",
         "Clothing",
         "50.0",
         "20.0",
         "1000.0"
        ],
        [
         "17",
         "2022-01-16",
         "Smartwatch",
         "Accessories",
         "200.0",
         "5.0",
         "1000.0"
        ],
        [
         "18",
         "2022-01-17",
         "Smartphone",
         "Electronics",
         "600.0",
         "6.0",
         "3600.0"
        ],
        [
         "19",
         "2022-01-18",
         "Coat",
         "Clothing",
         "100.0",
         "8.0",
         "800.0"
        ],
        [
         "20",
         "2022-01-19",
         "Speaker",
         "Electronics",
         "80.0",
         "20.0",
         "1600.0"
        ],
        [
         "21",
         "2022-01-20",
         "Backpack",
         "Bags",
         "50.0",
         "15.0",
         "750.0"
        ],
        [
         "22",
         "2022-01-21",
         "T-Shirt",
         "Clothing",
         "20.0",
         "40.0",
         "800.0"
        ],
        [
         "23",
         "2022-01-22",
         "Smartphone",
         "Electronics",
         "600.0",
         "7.0",
         "4200.0"
        ],
        [
         "24",
         "2022-01-23",
         "Tablet",
         "Electronics",
         "400.0",
         "3.0",
         "1200.0"
        ],
        [
         "25",
         "2022-01-24",
         "Hoodie",
         "Clothing",
         "40.0",
         "15.0",
         "600.0"
        ],
        [
         "26",
         "2022-01-25",
         "Smartwatch",
         "Accessories",
         "200.0",
         "8.0",
         "1600.0"
        ],
        [
         "27",
         "2022-01-26",
         "Sneakers",
         "Shoes",
         "80.0",
         "12.0",
         "960.0"
        ],
        [
         "28",
         "2022-01-27",
         "Coat",
         "Clothing",
         "100.0",
         "5.0",
         "500.0"
        ],
        [
         "29",
         "2022-01-28",
         "Speaker",
         "Electronics",
         "80.0",
         "8.0",
         "640.0"
        ],
        [
         "30",
         "2022-01-29",
         "T-Shirt",
         "Clothing",
         "20.0",
         "30.0",
         "600.0"
        ],
        [
         "31",
         "2022-01-30",
         "Smartphone",
         "Electronics",
         "600.0",
         "9.0",
         "5400.0"
        ],
        [
         "32",
         "2022-01-31",
         "Jeans",
         "Clothing",
         "50.0",
         "15.0",
         "750.0"
        ],
        [
         "33",
         "2022-02-01",
         "T-Shirt",
         "Clothing",
         "20.0",
         "35.0",
         "700.0"
        ],
        [
         "34",
         "2022-02-02",
         "Smartphone",
         "Electronics",
         "600.0",
         "10.0",
         "6000.0"
        ],
        [
         "35",
         "2022-02-03",
         "Headphones",
         "Electronics",
         "100.0",
         "25.0",
         "2500.0"
        ],
        [
         "36",
         "2022-02-04",
         "Coat",
         "Clothing",
         "100.0",
         "12.0",
         "1200.0"
        ],
        [
         "37",
         "2022-02-05",
         "Watch",
         "Accessories",
         "150.0",
         "8.0",
         "1200.0"
        ],
        [
         "38",
         "2022-02-06",
         "Smartphone",
         "Electronics",
         "600.0",
         "7.0",
         "4200.0"
        ],
        [
         "39",
         "2022-02-07",
         "Speaker",
         "Electronics",
         "80.0",
         "18.0",
         "1440.0"
        ],
        [
         "40",
         "2022-02-08",
         "Backpack",
         "Bags",
         "50.0",
         "25.0",
         "1250.0"
        ],
        [
         "41",
         "2022-02-09",
         "Smartwatch",
         "Accessories",
         "200.0",
         "6.0",
         "1200.0"
        ],
        [
         "42",
         "2022-02-10",
         "Jeans",
         "Clothing",
         "50.0",
         "10.0",
         "500.0"
        ],
        [
         "43",
         "2022-02-11",
         "T-Shirt",
         "Clothing",
         "20.0",
         "20.0",
         "400.0"
        ],
        [
         "44",
         "2022-02-12",
         "Smartphone",
         "Electronics",
         "600.0",
         "12.0",
         "7200.0"
        ],
        [
         "45",
         "2022-02-13",
         "Sneakers",
         "Shoes",
         "80.0",
         "8.0",
         "640.0"
        ],
        [
         "46",
         "2022-02-14",
         "Wallet",
         "Accessories",
         "30.0",
         "30.0",
         "900.0"
        ],
        [
         "47",
         "2022-02-15",
         "Tablet",
         "Electronics",
         "400.0",
         "4.0",
         "1600.0"
        ],
        [
         "48",
         "2022-02-16",
         "Smartwatch",
         "Accessories",
         "200.0",
         "7.0",
         "1400.0"
        ],
        [
         "49",
         "2022-02-17",
         "Smartphone",
         "Electronics",
         "600.0",
         "6.0",
         "3600.0"
        ]
       ],
       "shape": {
        "columns": 6,
        "rows": 369
       }
      },
      "text/html": [
       "<div>\n",
       "<style scoped>\n",
       "    .dataframe tbody tr th:only-of-type {\n",
       "        vertical-align: middle;\n",
       "    }\n",
       "\n",
       "    .dataframe tbody tr th {\n",
       "        vertical-align: top;\n",
       "    }\n",
       "\n",
       "    .dataframe thead th {\n",
       "        text-align: right;\n",
       "    }\n",
       "</style>\n",
       "<table border=\"1\" class=\"dataframe\">\n",
       "  <thead>\n",
       "    <tr style=\"text-align: right;\">\n",
       "      <th></th>\n",
       "      <th>date</th>\n",
       "      <th>product</th>\n",
       "      <th>category</th>\n",
       "      <th>price</th>\n",
       "      <th>quantity</th>\n",
       "      <th>revenue</th>\n",
       "    </tr>\n",
       "  </thead>\n",
       "  <tbody>\n",
       "    <tr>\n",
       "      <th>0</th>\n",
       "      <td>2022-01-01</td>\n",
       "      <td>Smartphone</td>\n",
       "      <td>Electronics</td>\n",
       "      <td>600.0</td>\n",
       "      <td>10.0</td>\n",
       "      <td>6000.0</td>\n",
       "    </tr>\n",
       "    <tr>\n",
       "      <th>1</th>\n",
       "      <td>2022-01-01</td>\n",
       "      <td>Laptop</td>\n",
       "      <td>Electronics</td>\n",
       "      <td>1200.0</td>\n",
       "      <td>5.0</td>\n",
       "      <td>6000.0</td>\n",
       "    </tr>\n",
       "    <tr>\n",
       "      <th>2</th>\n",
       "      <td>2022-01-02</td>\n",
       "      <td>T-Shirt</td>\n",
       "      <td>Clothing</td>\n",
       "      <td>20.0</td>\n",
       "      <td>50.0</td>\n",
       "      <td>1000.0</td>\n",
       "    </tr>\n",
       "    <tr>\n",
       "      <th>3</th>\n",
       "      <td>2022-01-03</td>\n",
       "      <td>Headphones</td>\n",
       "      <td>Electronics</td>\n",
       "      <td>100.0</td>\n",
       "      <td>20.0</td>\n",
       "      <td>2000.0</td>\n",
       "    </tr>\n",
       "    <tr>\n",
       "      <th>4</th>\n",
       "      <td>2022-01-04</td>\n",
       "      <td>T-Shirt</td>\n",
       "      <td>Clothing</td>\n",
       "      <td>20.0</td>\n",
       "      <td>25.0</td>\n",
       "      <td>500.0</td>\n",
       "    </tr>\n",
       "    <tr>\n",
       "      <th>...</th>\n",
       "      <td>...</td>\n",
       "      <td>...</td>\n",
       "      <td>...</td>\n",
       "      <td>...</td>\n",
       "      <td>...</td>\n",
       "      <td>...</td>\n",
       "    </tr>\n",
       "    <tr>\n",
       "      <th>364</th>\n",
       "      <td>2022-12-27</td>\n",
       "      <td>Watch</td>\n",
       "      <td>Accessories</td>\n",
       "      <td>150.0</td>\n",
       "      <td>5.0</td>\n",
       "      <td>750.0</td>\n",
       "    </tr>\n",
       "    <tr>\n",
       "      <th>365</th>\n",
       "      <td>2022-12-28</td>\n",
       "      <td>Coat</td>\n",
       "      <td>Clothing</td>\n",
       "      <td>100.0</td>\n",
       "      <td>5.0</td>\n",
       "      <td>500.0</td>\n",
       "    </tr>\n",
       "    <tr>\n",
       "      <th>366</th>\n",
       "      <td>2022-12-29</td>\n",
       "      <td>Headphones</td>\n",
       "      <td>Electronics</td>\n",
       "      <td>100.0</td>\n",
       "      <td>10.0</td>\n",
       "      <td>1000.0</td>\n",
       "    </tr>\n",
       "    <tr>\n",
       "      <th>367</th>\n",
       "      <td>2022-12-30</td>\n",
       "      <td>Smartphone</td>\n",
       "      <td>Electronics</td>\n",
       "      <td>600.0</td>\n",
       "      <td>11.0</td>\n",
       "      <td>6600.0</td>\n",
       "    </tr>\n",
       "    <tr>\n",
       "      <th>368</th>\n",
       "      <td>2022-12-31</td>\n",
       "      <td>Hoodie</td>\n",
       "      <td>Clothing</td>\n",
       "      <td>40.0</td>\n",
       "      <td>30.0</td>\n",
       "      <td>1200.0</td>\n",
       "    </tr>\n",
       "  </tbody>\n",
       "</table>\n",
       "<p>369 rows × 6 columns</p>\n",
       "</div>"
      ],
      "text/plain": [
       "           date     product     category   price  quantity  revenue\n",
       "0    2022-01-01  Smartphone  Electronics   600.0      10.0   6000.0\n",
       "1    2022-01-01      Laptop  Electronics  1200.0       5.0   6000.0\n",
       "2    2022-01-02     T-Shirt     Clothing    20.0      50.0   1000.0\n",
       "3    2022-01-03  Headphones  Electronics   100.0      20.0   2000.0\n",
       "4    2022-01-04     T-Shirt     Clothing    20.0      25.0    500.0\n",
       "..          ...         ...          ...     ...       ...      ...\n",
       "364  2022-12-27       Watch  Accessories   150.0       5.0    750.0\n",
       "365  2022-12-28        Coat     Clothing   100.0       5.0    500.0\n",
       "366  2022-12-29  Headphones  Electronics   100.0      10.0   1000.0\n",
       "367  2022-12-30  Smartphone  Electronics   600.0      11.0   6600.0\n",
       "368  2022-12-31      Hoodie     Clothing    40.0      30.0   1200.0\n",
       "\n",
       "[369 rows x 6 columns]"
      ]
     },
     "execution_count": 167,
     "metadata": {},
     "output_type": "execute_result"
    }
   ],
   "source": [
    "import pandas as pd\n",
    "df_sales=pd.read_csv(\"sales_data.csv\")\n",
    "df_sales"
   ]
  },
  {
   "cell_type": "code",
   "execution_count": 168,
   "id": "e74b8ab1",
   "metadata": {},
   "outputs": [
    {
     "name": "stdout",
     "output_type": "stream",
     "text": [
      "<class 'pandas.core.frame.DataFrame'>\n",
      "RangeIndex: 369 entries, 0 to 368\n",
      "Data columns (total 6 columns):\n",
      " #   Column    Non-Null Count  Dtype  \n",
      "---  ------    --------------  -----  \n",
      " 0   date      369 non-null    object \n",
      " 1   product   369 non-null    object \n",
      " 2   category  369 non-null    object \n",
      " 3   price     367 non-null    float64\n",
      " 4   quantity  368 non-null    float64\n",
      " 5   revenue   368 non-null    float64\n",
      "dtypes: float64(3), object(3)\n",
      "memory usage: 17.4+ KB\n"
     ]
    }
   ],
   "source": [
    "#checking correctness of columns\n",
    "df_sales.info()"
   ]
  },
  {
   "cell_type": "code",
   "execution_count": 169,
   "id": "35c22b45",
   "metadata": {},
   "outputs": [
    {
     "name": "stdout",
     "output_type": "stream",
     "text": [
      "['electronics' 'clothing' 'accessories' 'bags' 'shoes']\n"
     ]
    }
   ],
   "source": [
    "#cleaning category column\n",
    "df_sales[\"category\"] = df_sales[\"category\"].str.strip().str.lower()\n",
    "\n",
    "mapping = {\n",
    "    \"bgas\": \"bags\",\n",
    "    \"bags\": \"bags\",\n",
    "    \"shoeses\": \"shoes\",\n",
    "    \"shoes\": \"shoes\",\n",
    "    \"clothing\": \"clothing\",\n",
    "    \"clohting\": \"clothing\" \n",
    "}\n",
    "\n",
    "df_sales[\"category\"] = df_sales[\"category\"].replace(mapping)\n",
    "\n",
    "df_sales[\"category\"] = df_sales[\"category\"].fillna(\"other\")\n",
    "\n",
    "print(df_sales[\"category\"].unique())"
   ]
  },
  {
   "cell_type": "code",
   "execution_count": 170,
   "id": "c471bd30",
   "metadata": {},
   "outputs": [
    {
     "data": {
      "application/vnd.microsoft.datawrangler.viewer.v0+json": {
       "columns": [
        {
         "name": "index",
         "rawType": "int64",
         "type": "integer"
        },
        {
         "name": "date",
         "rawType": "object",
         "type": "string"
        },
        {
         "name": "product",
         "rawType": "object",
         "type": "string"
        },
        {
         "name": "category",
         "rawType": "object",
         "type": "string"
        },
        {
         "name": "price",
         "rawType": "float64",
         "type": "float"
        },
        {
         "name": "quantity",
         "rawType": "float64",
         "type": "float"
        },
        {
         "name": "revenue",
         "rawType": "float64",
         "type": "float"
        }
       ],
       "ref": "0047f01e-de56-4e10-b163-7ef3863f43fa",
       "rows": [
        [
         "0",
         "2022-01-01",
         "Smartphone",
         "electronics",
         "600.0",
         "10.0",
         "6000.0"
        ],
        [
         "1",
         "2022-01-01",
         "Laptop",
         "electronics",
         "1200.0",
         "5.0",
         "6000.0"
        ],
        [
         "2",
         "2022-01-02",
         "T-Shirt",
         "clothing",
         "20.0",
         "50.0",
         "1000.0"
        ],
        [
         "3",
         "2022-01-03",
         "Headphones",
         "electronics",
         "100.0",
         "20.0",
         "2000.0"
        ],
        [
         "4",
         "2022-01-04",
         "T-Shirt",
         "clothing",
         "20.0",
         "25.0",
         "500.0"
        ],
        [
         "5",
         "2022-01-05",
         "Watch",
         "accessories",
         "150.0",
         "10.0",
         "1500.0"
        ],
        [
         "6",
         "2022-01-06",
         "Smartphone",
         "electronics",
         "600.0",
         "8.0",
         "4800.0"
        ],
        [
         "7",
         "2022-01-06",
         "Tablet",
         "electronics",
         "400.0",
         "5.0",
         "2000.0"
        ],
        [
         "8",
         "2022-01-07",
         "Coat",
         "clothing",
         "100.0",
         "10.0",
         "1000.0"
        ],
        [
         "9",
         "2022-01-08",
         "Smartwatch",
         "accessories",
         "200.0",
         "12.0",
         "2400.0"
        ],
        [
         "10",
         "2022-01-09",
         "Speaker",
         "electronics",
         "80.0",
         "15.0",
         "1200.0"
        ],
        [
         "11",
         "2022-01-10",
         "Backpack",
         "bags",
         "50.0",
         "20.0",
         "1000.0"
        ],
        [
         "12",
         "2022-01-11",
         "Hoodie",
         "clothing",
         "40.0",
         "30.0",
         "1200.0"
        ],
        [
         "13",
         "2022-01-12",
         "Smartphone",
         "electronics",
         "600.0",
         "12.0",
         "7200.0"
        ],
        [
         "14",
         "2022-01-13",
         "Sneakers",
         "shoes",
         "80.0",
         "10.0",
         "800.0"
        ],
        [
         "15",
         "2022-01-14",
         "Wallet",
         "accessories",
         "30.0",
         "40.0",
         "1200.0"
        ],
        [
         "16",
         "2022-01-15",
         "Jeans",
         "clothing",
         "50.0",
         "20.0",
         "1000.0"
        ],
        [
         "17",
         "2022-01-16",
         "Smartwatch",
         "accessories",
         "200.0",
         "5.0",
         "1000.0"
        ],
        [
         "18",
         "2022-01-17",
         "Smartphone",
         "electronics",
         "600.0",
         "6.0",
         "3600.0"
        ],
        [
         "19",
         "2022-01-18",
         "Coat",
         "clothing",
         "100.0",
         "8.0",
         "800.0"
        ],
        [
         "20",
         "2022-01-19",
         "Speaker",
         "electronics",
         "80.0",
         "20.0",
         "1600.0"
        ],
        [
         "21",
         "2022-01-20",
         "Backpack",
         "bags",
         "50.0",
         "15.0",
         "750.0"
        ],
        [
         "22",
         "2022-01-21",
         "T-Shirt",
         "clothing",
         "20.0",
         "40.0",
         "800.0"
        ],
        [
         "23",
         "2022-01-22",
         "Smartphone",
         "electronics",
         "600.0",
         "7.0",
         "4200.0"
        ],
        [
         "24",
         "2022-01-23",
         "Tablet",
         "electronics",
         "400.0",
         "3.0",
         "1200.0"
        ],
        [
         "25",
         "2022-01-24",
         "Hoodie",
         "clothing",
         "40.0",
         "15.0",
         "600.0"
        ],
        [
         "26",
         "2022-01-25",
         "Smartwatch",
         "accessories",
         "200.0",
         "8.0",
         "1600.0"
        ],
        [
         "27",
         "2022-01-26",
         "Sneakers",
         "shoes",
         "80.0",
         "12.0",
         "960.0"
        ],
        [
         "28",
         "2022-01-27",
         "Coat",
         "clothing",
         "100.0",
         "5.0",
         "500.0"
        ],
        [
         "29",
         "2022-01-28",
         "Speaker",
         "electronics",
         "80.0",
         "8.0",
         "640.0"
        ],
        [
         "30",
         "2022-01-29",
         "T-Shirt",
         "clothing",
         "20.0",
         "30.0",
         "600.0"
        ],
        [
         "31",
         "2022-01-30",
         "Smartphone",
         "electronics",
         "600.0",
         "9.0",
         "5400.0"
        ],
        [
         "32",
         "2022-01-31",
         "Jeans",
         "clothing",
         "50.0",
         "15.0",
         "750.0"
        ],
        [
         "33",
         "2022-02-01",
         "T-Shirt",
         "clothing",
         "20.0",
         "35.0",
         "700.0"
        ],
        [
         "34",
         "2022-02-02",
         "Smartphone",
         "electronics",
         "600.0",
         "10.0",
         "6000.0"
        ],
        [
         "35",
         "2022-02-03",
         "Headphones",
         "electronics",
         "100.0",
         "25.0",
         "2500.0"
        ],
        [
         "36",
         "2022-02-04",
         "Coat",
         "clothing",
         "100.0",
         "12.0",
         "1200.0"
        ],
        [
         "37",
         "2022-02-05",
         "Watch",
         "accessories",
         "150.0",
         "8.0",
         "1200.0"
        ],
        [
         "38",
         "2022-02-06",
         "Smartphone",
         "electronics",
         "600.0",
         "7.0",
         "4200.0"
        ],
        [
         "39",
         "2022-02-07",
         "Speaker",
         "electronics",
         "80.0",
         "18.0",
         "1440.0"
        ],
        [
         "40",
         "2022-02-08",
         "Backpack",
         "bags",
         "50.0",
         "25.0",
         "1250.0"
        ],
        [
         "41",
         "2022-02-09",
         "Smartwatch",
         "accessories",
         "200.0",
         "6.0",
         "1200.0"
        ],
        [
         "42",
         "2022-02-10",
         "Jeans",
         "clothing",
         "50.0",
         "10.0",
         "500.0"
        ],
        [
         "43",
         "2022-02-11",
         "T-Shirt",
         "clothing",
         "20.0",
         "20.0",
         "400.0"
        ],
        [
         "44",
         "2022-02-12",
         "Smartphone",
         "electronics",
         "600.0",
         "12.0",
         "7200.0"
        ],
        [
         "45",
         "2022-02-13",
         "Sneakers",
         "shoes",
         "80.0",
         "8.0",
         "640.0"
        ],
        [
         "46",
         "2022-02-14",
         "Wallet",
         "accessories",
         "30.0",
         "30.0",
         "900.0"
        ],
        [
         "47",
         "2022-02-15",
         "Tablet",
         "electronics",
         "400.0",
         "4.0",
         "1600.0"
        ],
        [
         "48",
         "2022-02-16",
         "Smartwatch",
         "accessories",
         "200.0",
         "7.0",
         "1400.0"
        ],
        [
         "49",
         "2022-02-17",
         "Smartphone",
         "electronics",
         "600.0",
         "6.0",
         "3600.0"
        ]
       ],
       "shape": {
        "columns": 6,
        "rows": 369
       }
      },
      "text/html": [
       "<div>\n",
       "<style scoped>\n",
       "    .dataframe tbody tr th:only-of-type {\n",
       "        vertical-align: middle;\n",
       "    }\n",
       "\n",
       "    .dataframe tbody tr th {\n",
       "        vertical-align: top;\n",
       "    }\n",
       "\n",
       "    .dataframe thead th {\n",
       "        text-align: right;\n",
       "    }\n",
       "</style>\n",
       "<table border=\"1\" class=\"dataframe\">\n",
       "  <thead>\n",
       "    <tr style=\"text-align: right;\">\n",
       "      <th></th>\n",
       "      <th>date</th>\n",
       "      <th>product</th>\n",
       "      <th>category</th>\n",
       "      <th>price</th>\n",
       "      <th>quantity</th>\n",
       "      <th>revenue</th>\n",
       "    </tr>\n",
       "  </thead>\n",
       "  <tbody>\n",
       "    <tr>\n",
       "      <th>0</th>\n",
       "      <td>2022-01-01</td>\n",
       "      <td>Smartphone</td>\n",
       "      <td>electronics</td>\n",
       "      <td>600.0</td>\n",
       "      <td>10.0</td>\n",
       "      <td>6000.0</td>\n",
       "    </tr>\n",
       "    <tr>\n",
       "      <th>1</th>\n",
       "      <td>2022-01-01</td>\n",
       "      <td>Laptop</td>\n",
       "      <td>electronics</td>\n",
       "      <td>1200.0</td>\n",
       "      <td>5.0</td>\n",
       "      <td>6000.0</td>\n",
       "    </tr>\n",
       "    <tr>\n",
       "      <th>2</th>\n",
       "      <td>2022-01-02</td>\n",
       "      <td>T-Shirt</td>\n",
       "      <td>clothing</td>\n",
       "      <td>20.0</td>\n",
       "      <td>50.0</td>\n",
       "      <td>1000.0</td>\n",
       "    </tr>\n",
       "    <tr>\n",
       "      <th>3</th>\n",
       "      <td>2022-01-03</td>\n",
       "      <td>Headphones</td>\n",
       "      <td>electronics</td>\n",
       "      <td>100.0</td>\n",
       "      <td>20.0</td>\n",
       "      <td>2000.0</td>\n",
       "    </tr>\n",
       "    <tr>\n",
       "      <th>4</th>\n",
       "      <td>2022-01-04</td>\n",
       "      <td>T-Shirt</td>\n",
       "      <td>clothing</td>\n",
       "      <td>20.0</td>\n",
       "      <td>25.0</td>\n",
       "      <td>500.0</td>\n",
       "    </tr>\n",
       "    <tr>\n",
       "      <th>...</th>\n",
       "      <td>...</td>\n",
       "      <td>...</td>\n",
       "      <td>...</td>\n",
       "      <td>...</td>\n",
       "      <td>...</td>\n",
       "      <td>...</td>\n",
       "    </tr>\n",
       "    <tr>\n",
       "      <th>364</th>\n",
       "      <td>2022-12-27</td>\n",
       "      <td>Watch</td>\n",
       "      <td>accessories</td>\n",
       "      <td>150.0</td>\n",
       "      <td>5.0</td>\n",
       "      <td>750.0</td>\n",
       "    </tr>\n",
       "    <tr>\n",
       "      <th>365</th>\n",
       "      <td>2022-12-28</td>\n",
       "      <td>Coat</td>\n",
       "      <td>clothing</td>\n",
       "      <td>100.0</td>\n",
       "      <td>5.0</td>\n",
       "      <td>500.0</td>\n",
       "    </tr>\n",
       "    <tr>\n",
       "      <th>366</th>\n",
       "      <td>2022-12-29</td>\n",
       "      <td>Headphones</td>\n",
       "      <td>electronics</td>\n",
       "      <td>100.0</td>\n",
       "      <td>10.0</td>\n",
       "      <td>1000.0</td>\n",
       "    </tr>\n",
       "    <tr>\n",
       "      <th>367</th>\n",
       "      <td>2022-12-30</td>\n",
       "      <td>Smartphone</td>\n",
       "      <td>electronics</td>\n",
       "      <td>600.0</td>\n",
       "      <td>11.0</td>\n",
       "      <td>6600.0</td>\n",
       "    </tr>\n",
       "    <tr>\n",
       "      <th>368</th>\n",
       "      <td>2022-12-31</td>\n",
       "      <td>Hoodie</td>\n",
       "      <td>clothing</td>\n",
       "      <td>40.0</td>\n",
       "      <td>30.0</td>\n",
       "      <td>1200.0</td>\n",
       "    </tr>\n",
       "  </tbody>\n",
       "</table>\n",
       "<p>369 rows × 6 columns</p>\n",
       "</div>"
      ],
      "text/plain": [
       "           date     product     category   price  quantity  revenue\n",
       "0    2022-01-01  Smartphone  electronics   600.0      10.0   6000.0\n",
       "1    2022-01-01      Laptop  electronics  1200.0       5.0   6000.0\n",
       "2    2022-01-02     T-Shirt     clothing    20.0      50.0   1000.0\n",
       "3    2022-01-03  Headphones  electronics   100.0      20.0   2000.0\n",
       "4    2022-01-04     T-Shirt     clothing    20.0      25.0    500.0\n",
       "..          ...         ...          ...     ...       ...      ...\n",
       "364  2022-12-27       Watch  accessories   150.0       5.0    750.0\n",
       "365  2022-12-28        Coat     clothing   100.0       5.0    500.0\n",
       "366  2022-12-29  Headphones  electronics   100.0      10.0   1000.0\n",
       "367  2022-12-30  Smartphone  electronics   600.0      11.0   6600.0\n",
       "368  2022-12-31      Hoodie     clothing    40.0      30.0   1200.0\n",
       "\n",
       "[369 rows x 6 columns]"
      ]
     },
     "execution_count": 170,
     "metadata": {},
     "output_type": "execute_result"
    }
   ],
   "source": [
    "#fill missing values of price column with median price\n",
    "product_prices = df_sales.groupby(\"product\")[\"price\"].median()\n",
    "df_sales[\"price\"] = df_sales.apply(\n",
    "    lambda r: product_prices[r[\"product\"]] if pd.isnull(r[\"price\"]) or r[\"price\"] <= 0 else r[\"price\"],\n",
    "    axis=1\n",
    ")\n",
    "\n",
    "df_sales[\"revenue\"] = df_sales[\"price\"] * df_sales[\"quantity\"]\n",
    "df_sales"
   ]
  },
  {
   "cell_type": "code",
   "execution_count": 171,
   "id": "7d0a27c1",
   "metadata": {},
   "outputs": [
    {
     "data": {
      "application/vnd.microsoft.datawrangler.viewer.v0+json": {
       "columns": [
        {
         "name": "index",
         "rawType": "int64",
         "type": "integer"
        },
        {
         "name": "date",
         "rawType": "object",
         "type": "string"
        },
        {
         "name": "product",
         "rawType": "object",
         "type": "string"
        },
        {
         "name": "category",
         "rawType": "object",
         "type": "string"
        },
        {
         "name": "price",
         "rawType": "float64",
         "type": "float"
        },
        {
         "name": "quantity",
         "rawType": "float64",
         "type": "float"
        },
        {
         "name": "revenue",
         "rawType": "float64",
         "type": "float"
        }
       ],
       "ref": "68bb12f2-8682-4176-95cb-ca98c8a8d6dd",
       "rows": [
        [
         "0",
         "2022-01-01",
         "Smartphone",
         "electronics",
         "600.0",
         "10.0",
         "6000.0"
        ],
        [
         "1",
         "2022-01-01",
         "Laptop",
         "electronics",
         "1200.0",
         "5.0",
         "6000.0"
        ],
        [
         "2",
         "2022-01-02",
         "T-Shirt",
         "clothing",
         "20.0",
         "50.0",
         "1000.0"
        ],
        [
         "3",
         "2022-01-03",
         "Headphones",
         "electronics",
         "100.0",
         "20.0",
         "2000.0"
        ],
        [
         "4",
         "2022-01-04",
         "T-Shirt",
         "clothing",
         "20.0",
         "25.0",
         "500.0"
        ],
        [
         "5",
         "2022-01-05",
         "Watch",
         "accessories",
         "150.0",
         "10.0",
         "1500.0"
        ],
        [
         "6",
         "2022-01-06",
         "Smartphone",
         "electronics",
         "600.0",
         "8.0",
         "4800.0"
        ],
        [
         "7",
         "2022-01-06",
         "Tablet",
         "electronics",
         "400.0",
         "5.0",
         "2000.0"
        ],
        [
         "8",
         "2022-01-07",
         "Coat",
         "clothing",
         "100.0",
         "10.0",
         "1000.0"
        ],
        [
         "9",
         "2022-01-08",
         "Smartwatch",
         "accessories",
         "200.0",
         "12.0",
         "2400.0"
        ],
        [
         "10",
         "2022-01-09",
         "Speaker",
         "electronics",
         "80.0",
         "15.0",
         "1200.0"
        ],
        [
         "11",
         "2022-01-10",
         "Backpack",
         "bags",
         "50.0",
         "20.0",
         "1000.0"
        ],
        [
         "12",
         "2022-01-11",
         "Hoodie",
         "clothing",
         "40.0",
         "30.0",
         "1200.0"
        ],
        [
         "13",
         "2022-01-12",
         "Smartphone",
         "electronics",
         "600.0",
         "12.0",
         "7200.0"
        ],
        [
         "14",
         "2022-01-13",
         "Sneakers",
         "shoes",
         "80.0",
         "10.0",
         "800.0"
        ],
        [
         "15",
         "2022-01-14",
         "Wallet",
         "accessories",
         "30.0",
         "40.0",
         "1200.0"
        ],
        [
         "16",
         "2022-01-15",
         "Jeans",
         "clothing",
         "50.0",
         "20.0",
         "1000.0"
        ],
        [
         "17",
         "2022-01-16",
         "Smartwatch",
         "accessories",
         "200.0",
         "5.0",
         "1000.0"
        ],
        [
         "18",
         "2022-01-17",
         "Smartphone",
         "electronics",
         "600.0",
         "6.0",
         "3600.0"
        ],
        [
         "19",
         "2022-01-18",
         "Coat",
         "clothing",
         "100.0",
         "8.0",
         "800.0"
        ],
        [
         "20",
         "2022-01-19",
         "Speaker",
         "electronics",
         "80.0",
         "20.0",
         "1600.0"
        ],
        [
         "21",
         "2022-01-20",
         "Backpack",
         "bags",
         "50.0",
         "15.0",
         "750.0"
        ],
        [
         "22",
         "2022-01-21",
         "T-Shirt",
         "clothing",
         "20.0",
         "40.0",
         "800.0"
        ],
        [
         "23",
         "2022-01-22",
         "Smartphone",
         "electronics",
         "600.0",
         "7.0",
         "4200.0"
        ],
        [
         "24",
         "2022-01-23",
         "Tablet",
         "electronics",
         "400.0",
         "3.0",
         "1200.0"
        ],
        [
         "25",
         "2022-01-24",
         "Hoodie",
         "clothing",
         "40.0",
         "15.0",
         "600.0"
        ],
        [
         "26",
         "2022-01-25",
         "Smartwatch",
         "accessories",
         "200.0",
         "8.0",
         "1600.0"
        ],
        [
         "27",
         "2022-01-26",
         "Sneakers",
         "shoes",
         "80.0",
         "12.0",
         "960.0"
        ],
        [
         "28",
         "2022-01-27",
         "Coat",
         "clothing",
         "100.0",
         "5.0",
         "500.0"
        ],
        [
         "29",
         "2022-01-28",
         "Speaker",
         "electronics",
         "80.0",
         "8.0",
         "640.0"
        ],
        [
         "30",
         "2022-01-29",
         "T-Shirt",
         "clothing",
         "20.0",
         "30.0",
         "600.0"
        ],
        [
         "31",
         "2022-01-30",
         "Smartphone",
         "electronics",
         "600.0",
         "9.0",
         "5400.0"
        ],
        [
         "32",
         "2022-01-31",
         "Jeans",
         "clothing",
         "50.0",
         "15.0",
         "750.0"
        ],
        [
         "33",
         "2022-02-01",
         "T-Shirt",
         "clothing",
         "20.0",
         "35.0",
         "700.0"
        ],
        [
         "34",
         "2022-02-02",
         "Smartphone",
         "electronics",
         "600.0",
         "10.0",
         "6000.0"
        ],
        [
         "35",
         "2022-02-03",
         "Headphones",
         "electronics",
         "100.0",
         "25.0",
         "2500.0"
        ],
        [
         "36",
         "2022-02-04",
         "Coat",
         "clothing",
         "100.0",
         "12.0",
         "1200.0"
        ],
        [
         "37",
         "2022-02-05",
         "Watch",
         "accessories",
         "150.0",
         "8.0",
         "1200.0"
        ],
        [
         "38",
         "2022-02-06",
         "Smartphone",
         "electronics",
         "600.0",
         "7.0",
         "4200.0"
        ],
        [
         "39",
         "2022-02-07",
         "Speaker",
         "electronics",
         "80.0",
         "18.0",
         "1440.0"
        ],
        [
         "40",
         "2022-02-08",
         "Backpack",
         "bags",
         "50.0",
         "25.0",
         "1250.0"
        ],
        [
         "41",
         "2022-02-09",
         "Smartwatch",
         "accessories",
         "200.0",
         "6.0",
         "1200.0"
        ],
        [
         "42",
         "2022-02-10",
         "Jeans",
         "clothing",
         "50.0",
         "10.0",
         "500.0"
        ],
        [
         "43",
         "2022-02-11",
         "T-Shirt",
         "clothing",
         "20.0",
         "20.0",
         "400.0"
        ],
        [
         "44",
         "2022-02-12",
         "Smartphone",
         "electronics",
         "600.0",
         "12.0",
         "7200.0"
        ],
        [
         "45",
         "2022-02-13",
         "Sneakers",
         "shoes",
         "80.0",
         "8.0",
         "640.0"
        ],
        [
         "46",
         "2022-02-14",
         "Wallet",
         "accessories",
         "30.0",
         "30.0",
         "900.0"
        ],
        [
         "47",
         "2022-02-15",
         "Tablet",
         "electronics",
         "400.0",
         "4.0",
         "1600.0"
        ],
        [
         "48",
         "2022-02-16",
         "Smartwatch",
         "accessories",
         "200.0",
         "7.0",
         "1400.0"
        ],
        [
         "49",
         "2022-02-17",
         "Smartphone",
         "electronics",
         "600.0",
         "6.0",
         "3600.0"
        ]
       ],
       "shape": {
        "columns": 6,
        "rows": 369
       }
      },
      "text/html": [
       "<div>\n",
       "<style scoped>\n",
       "    .dataframe tbody tr th:only-of-type {\n",
       "        vertical-align: middle;\n",
       "    }\n",
       "\n",
       "    .dataframe tbody tr th {\n",
       "        vertical-align: top;\n",
       "    }\n",
       "\n",
       "    .dataframe thead th {\n",
       "        text-align: right;\n",
       "    }\n",
       "</style>\n",
       "<table border=\"1\" class=\"dataframe\">\n",
       "  <thead>\n",
       "    <tr style=\"text-align: right;\">\n",
       "      <th></th>\n",
       "      <th>date</th>\n",
       "      <th>product</th>\n",
       "      <th>category</th>\n",
       "      <th>price</th>\n",
       "      <th>quantity</th>\n",
       "      <th>revenue</th>\n",
       "    </tr>\n",
       "  </thead>\n",
       "  <tbody>\n",
       "    <tr>\n",
       "      <th>0</th>\n",
       "      <td>2022-01-01</td>\n",
       "      <td>Smartphone</td>\n",
       "      <td>electronics</td>\n",
       "      <td>600.0</td>\n",
       "      <td>10.0</td>\n",
       "      <td>6000.0</td>\n",
       "    </tr>\n",
       "    <tr>\n",
       "      <th>1</th>\n",
       "      <td>2022-01-01</td>\n",
       "      <td>Laptop</td>\n",
       "      <td>electronics</td>\n",
       "      <td>1200.0</td>\n",
       "      <td>5.0</td>\n",
       "      <td>6000.0</td>\n",
       "    </tr>\n",
       "    <tr>\n",
       "      <th>2</th>\n",
       "      <td>2022-01-02</td>\n",
       "      <td>T-Shirt</td>\n",
       "      <td>clothing</td>\n",
       "      <td>20.0</td>\n",
       "      <td>50.0</td>\n",
       "      <td>1000.0</td>\n",
       "    </tr>\n",
       "    <tr>\n",
       "      <th>3</th>\n",
       "      <td>2022-01-03</td>\n",
       "      <td>Headphones</td>\n",
       "      <td>electronics</td>\n",
       "      <td>100.0</td>\n",
       "      <td>20.0</td>\n",
       "      <td>2000.0</td>\n",
       "    </tr>\n",
       "    <tr>\n",
       "      <th>4</th>\n",
       "      <td>2022-01-04</td>\n",
       "      <td>T-Shirt</td>\n",
       "      <td>clothing</td>\n",
       "      <td>20.0</td>\n",
       "      <td>25.0</td>\n",
       "      <td>500.0</td>\n",
       "    </tr>\n",
       "    <tr>\n",
       "      <th>...</th>\n",
       "      <td>...</td>\n",
       "      <td>...</td>\n",
       "      <td>...</td>\n",
       "      <td>...</td>\n",
       "      <td>...</td>\n",
       "      <td>...</td>\n",
       "    </tr>\n",
       "    <tr>\n",
       "      <th>364</th>\n",
       "      <td>2022-12-27</td>\n",
       "      <td>Watch</td>\n",
       "      <td>accessories</td>\n",
       "      <td>150.0</td>\n",
       "      <td>5.0</td>\n",
       "      <td>750.0</td>\n",
       "    </tr>\n",
       "    <tr>\n",
       "      <th>365</th>\n",
       "      <td>2022-12-28</td>\n",
       "      <td>Coat</td>\n",
       "      <td>clothing</td>\n",
       "      <td>100.0</td>\n",
       "      <td>5.0</td>\n",
       "      <td>500.0</td>\n",
       "    </tr>\n",
       "    <tr>\n",
       "      <th>366</th>\n",
       "      <td>2022-12-29</td>\n",
       "      <td>Headphones</td>\n",
       "      <td>electronics</td>\n",
       "      <td>100.0</td>\n",
       "      <td>10.0</td>\n",
       "      <td>1000.0</td>\n",
       "    </tr>\n",
       "    <tr>\n",
       "      <th>367</th>\n",
       "      <td>2022-12-30</td>\n",
       "      <td>Smartphone</td>\n",
       "      <td>electronics</td>\n",
       "      <td>600.0</td>\n",
       "      <td>11.0</td>\n",
       "      <td>6600.0</td>\n",
       "    </tr>\n",
       "    <tr>\n",
       "      <th>368</th>\n",
       "      <td>2022-12-31</td>\n",
       "      <td>Hoodie</td>\n",
       "      <td>clothing</td>\n",
       "      <td>40.0</td>\n",
       "      <td>30.0</td>\n",
       "      <td>1200.0</td>\n",
       "    </tr>\n",
       "  </tbody>\n",
       "</table>\n",
       "<p>369 rows × 6 columns</p>\n",
       "</div>"
      ],
      "text/plain": [
       "           date     product     category   price  quantity  revenue\n",
       "0    2022-01-01  Smartphone  electronics   600.0      10.0   6000.0\n",
       "1    2022-01-01      Laptop  electronics  1200.0       5.0   6000.0\n",
       "2    2022-01-02     T-Shirt     clothing    20.0      50.0   1000.0\n",
       "3    2022-01-03  Headphones  electronics   100.0      20.0   2000.0\n",
       "4    2022-01-04     T-Shirt     clothing    20.0      25.0    500.0\n",
       "..          ...         ...          ...     ...       ...      ...\n",
       "364  2022-12-27       Watch  accessories   150.0       5.0    750.0\n",
       "365  2022-12-28        Coat     clothing   100.0       5.0    500.0\n",
       "366  2022-12-29  Headphones  electronics   100.0      10.0   1000.0\n",
       "367  2022-12-30  Smartphone  electronics   600.0      11.0   6600.0\n",
       "368  2022-12-31      Hoodie     clothing    40.0      30.0   1200.0\n",
       "\n",
       "[369 rows x 6 columns]"
      ]
     },
     "execution_count": 171,
     "metadata": {},
     "output_type": "execute_result"
    }
   ],
   "source": [
    "#fill missing values of price column with median price\n",
    "product_prices = df_sales.groupby(\"product\")[\"quantity\"].median()\n",
    "df_sales[\"quantity\"] = df_sales.apply(\n",
    "    lambda r: product_prices[r[\"product\"]] if pd.isnull(r[\"quantity\"]) or r[\"quantity\"] <= 0 else r[\"quantity\"],\n",
    "    axis=1\n",
    ")\n",
    "\n",
    "df_sales[\"revenue\"] = df_sales[\"price\"] * df_sales[\"quantity\"]\n",
    "df_sales"
   ]
  },
  {
   "cell_type": "code",
   "execution_count": 172,
   "id": "145371fd",
   "metadata": {},
   "outputs": [
    {
     "name": "stdout",
     "output_type": "stream",
     "text": [
      "<class 'pandas.core.frame.DataFrame'>\n",
      "RangeIndex: 369 entries, 0 to 368\n",
      "Data columns (total 6 columns):\n",
      " #   Column    Non-Null Count  Dtype  \n",
      "---  ------    --------------  -----  \n",
      " 0   date      369 non-null    object \n",
      " 1   product   369 non-null    object \n",
      " 2   category  369 non-null    object \n",
      " 3   price     369 non-null    float64\n",
      " 4   quantity  369 non-null    float64\n",
      " 5   revenue   369 non-null    float64\n",
      "dtypes: float64(3), object(3)\n",
      "memory usage: 17.4+ KB\n"
     ]
    }
   ],
   "source": [
    "#checking correctness of columns after filling missing values\n",
    "df_sales.info()"
   ]
  },
  {
   "cell_type": "code",
   "execution_count": 173,
   "id": "69074b53",
   "metadata": {},
   "outputs": [
    {
     "data": {
      "text/plain": [
       "759130.0"
      ]
     },
     "execution_count": 173,
     "metadata": {},
     "output_type": "execute_result"
    }
   ],
   "source": [
    "#sum of all revenue\n",
    "df_sales[\"revenue\"].sum()\n"
   ]
  },
  {
   "cell_type": "code",
   "execution_count": 174,
   "id": "909a0a82",
   "metadata": {},
   "outputs": [
    {
     "data": {
      "application/vnd.microsoft.datawrangler.viewer.v0+json": {
       "columns": [
        {
         "name": "product",
         "rawType": "object",
         "type": "string"
        },
        {
         "name": "revenue",
         "rawType": "float64",
         "type": "float"
        }
       ],
       "ref": "ed15cf41-8629-4f31-a89a-eaddc9442dfa",
       "rows": [
        [
         "Backpack",
         "20400.0"
        ],
        [
         "Coat",
         "33800.0"
        ],
        [
         "Headphones",
         "18000.0"
        ],
        [
         "Hoodie",
         "21000.0"
        ],
        [
         "Jeans",
         "20650.0"
        ],
        [
         "Laptop",
         "6000.0"
        ],
        [
         "Smartphone",
         "433200.0"
        ],
        [
         "Smartwatch",
         "60800.0"
        ],
        [
         "Sneakers",
         "21600.0"
        ],
        [
         "Speaker",
         "39680.0"
        ],
        [
         "T-Shirt",
         "20100.0"
        ],
        [
         "Tablet",
         "18000.0"
        ],
        [
         "Wallet",
         "13200.0"
        ],
        [
         "Watch",
         "32700.0"
        ]
       ],
       "shape": {
        "columns": 1,
        "rows": 14
       }
      },
      "text/plain": [
       "product\n",
       "Backpack       20400.0\n",
       "Coat           33800.0\n",
       "Headphones     18000.0\n",
       "Hoodie         21000.0\n",
       "Jeans          20650.0\n",
       "Laptop          6000.0\n",
       "Smartphone    433200.0\n",
       "Smartwatch     60800.0\n",
       "Sneakers       21600.0\n",
       "Speaker        39680.0\n",
       "T-Shirt        20100.0\n",
       "Tablet         18000.0\n",
       "Wallet         13200.0\n",
       "Watch          32700.0\n",
       "Name: revenue, dtype: float64"
      ]
     },
     "execution_count": 174,
     "metadata": {},
     "output_type": "execute_result"
    }
   ],
   "source": [
    "# Calculate total revenue per product\n",
    "df_sales.groupby(\"product\")[\"revenue\"].sum()"
   ]
  },
  {
   "cell_type": "code",
   "execution_count": 175,
   "id": "c52798c0",
   "metadata": {},
   "outputs": [
    {
     "data": {
      "text/plain": [
       "210.5691056910569"
      ]
     },
     "execution_count": 175,
     "metadata": {},
     "output_type": "execute_result"
    }
   ],
   "source": [
    "# Calculate the average price of all products\n",
    "df_sales[\"price\"].mean()"
   ]
  },
  {
   "cell_type": "code",
   "execution_count": 176,
   "id": "545361d5",
   "metadata": {},
   "outputs": [
    {
     "data": {
      "text/plain": [
       "5369.0"
      ]
     },
     "execution_count": 176,
     "metadata": {},
     "output_type": "execute_result"
    }
   ],
   "source": [
    "df_sales[\"quantity\"].sum()"
   ]
  },
  {
   "cell_type": "code",
   "execution_count": 177,
   "id": "22291cfc",
   "metadata": {},
   "outputs": [
    {
     "data": {
      "application/vnd.microsoft.datawrangler.viewer.v0+json": {
       "columns": [
        {
         "name": "category",
         "rawType": "object",
         "type": "string"
        },
        {
         "name": "revenue",
         "rawType": "float64",
         "type": "float"
        }
       ],
       "ref": "4c7da2fb-95b5-4cbc-91d0-cfa96c4c7c6f",
       "rows": [
        [
         "accessories",
         "106700.0"
        ],
        [
         "bags",
         "20400.0"
        ],
        [
         "clothing",
         "95550.0"
        ],
        [
         "electronics",
         "514880.0"
        ],
        [
         "shoes",
         "21600.0"
        ]
       ],
       "shape": {
        "columns": 1,
        "rows": 5
       }
      },
      "text/plain": [
       "category\n",
       "accessories    106700.0\n",
       "bags            20400.0\n",
       "clothing        95550.0\n",
       "electronics    514880.0\n",
       "shoes           21600.0\n",
       "Name: revenue, dtype: float64"
      ]
     },
     "execution_count": 177,
     "metadata": {},
     "output_type": "execute_result"
    }
   ],
   "source": [
    "# Calculate the total quantity of products sold\n",
    "df_sales.groupby(\"category\")[\"revenue\"].sum()"
   ]
  },
  {
   "cell_type": "code",
   "execution_count": 178,
   "id": "c558998f",
   "metadata": {},
   "outputs": [
    {
     "data": {
      "text/plain": [
       "2057.262872628726"
      ]
     },
     "execution_count": 178,
     "metadata": {},
     "output_type": "execute_result"
    }
   ],
   "source": [
    "# Calculate total revenue per category\n",
    "df_sales[\"revenue\"].mean()"
   ]
  },
  {
   "cell_type": "code",
   "execution_count": 179,
   "id": "7e63f619",
   "metadata": {},
   "outputs": [
    {
     "name": "stdout",
     "output_type": "stream",
     "text": [
      "quarter\n",
      "1    182100.0\n",
      "2    184770.0\n",
      "3    197680.0\n",
      "4    194580.0\n",
      "Name: revenue, dtype: float64\n"
     ]
    }
   ],
   "source": [
    "# Calculate the average revenue per sales\n",
    "df_sales[\"date\"] = pd.to_datetime(df_sales[\"date\"])\n",
    "df_sales[\"quarter\"] = df_sales[\"date\"].dt.quarter\n",
    "quarter_revenue = df_sales.groupby(\"quarter\")[\"revenue\"].sum()\n",
    "print(quarter_revenue)\n"
   ]
  },
  {
   "cell_type": "code",
   "execution_count": 180,
   "id": "6e6a16e4",
   "metadata": {},
   "outputs": [
    {
     "data": {
      "image/png": "[encoded data removed]",
      "text/plain": [
       "<Figure size 600x400 with 1 Axes>"
      ]
     },
     "metadata": {},
     "output_type": "display_data"
    }
   ],
   "source": [
    "# Calculate total revenue per quarter\n",
    "import matplotlib.pyplot as plt\n",
    "\n",
    "quarter_revenue = df_sales.groupby(\"quarter\")[\"revenue\"].sum()\n",
    "\n",
    "quarter_revenue.plot(kind=\"bar\", figsize=(6,4))\n",
    "plt.title(\"Total Revenue per Quarter\")\n",
    "plt.xlabel(\"Quarter\")\n",
    "plt.ylabel(\"Revenue\")\n",
    "plt.show()\n"
   ]
  },
  {
   "cell_type": "code",
   "execution_count": 181,
   "id": "fcc1cd0b",
   "metadata": {},
   "outputs": [
    {
     "data": {
      "image/png": "[encoded data removed]",
      "text/plain": [
       "<Figure size 600x600 with 1 Axes>"
      ]
     },
     "metadata": {},
     "output_type": "display_data"
    }
   ],
   "source": [
    "# Calculate total revenue per category\n",
    "category_revenue = df_sales.groupby(\"category\")[\"revenue\"].sum()\n",
    "\n",
    "category_revenue.plot(kind=\"pie\", autopct=\"%1.1f%%\", figsize=(6,6))\n",
    "plt.title(\"Revenue Share by Category\")\n",
    "plt.ylabel(\"\") \n",
    "plt.show()\n"
   ]
  },
  {
   "cell_type": "code",
   "execution_count": 182,
   "id": "31e47183",
   "metadata": {},
   "outputs": [
    {
     "data": {
      "image/png": "[encoded data removed]",
      "text/plain": [
       "<Figure size 700x400 with 1 Axes>"
      ]
     },
     "metadata": {},
     "output_type": "display_data"
    }
   ],
   "source": [
    "# Calculate total revenue per month\n",
    "df_sales[\"month\"] = df_sales[\"date\"].dt.month\n",
    "monthly_revenue = df_sales.groupby(\"month\")[\"revenue\"].sum()\n",
    "\n",
    "monthly_revenue.plot(kind=\"line\", marker=\"o\", figsize=(7,4))\n",
    "plt.title(\"Monthly Revenue Trend\")\n",
    "plt.xlabel(\"Month\")\n",
    "plt.ylabel(\"Revenue\")\n",
    "plt.grid(True)\n",
    "plt.show()\n"
   ]
  },
  {
   "cell_type": "code",
   "execution_count": 183,
   "id": "92191ded",
   "metadata": {},
   "outputs": [],
   "source": [
    "df_sales.to_csv(\"sales_data_cleaned.csv\", index=False)"
   ]
  }
 ],
 "metadata": {
  "kernelspec": {
   "display_name": "Python 3",
   "language": "python",
   "name": "python3"
  },
  "language_info": {
   "codemirror_mode": {
    "name": "ipython",
    "version": 3
   },
   "file_extension": ".py",
   "mimetype": "text/x-python",
   "name": "python",
   "nbconvert_exporter": "python",
   "pygments_lexer": "ipython3",
   "version": "3.11.9"
  }
 },
 "nbformat": 4,
 "nbformat_minor": 5
}
